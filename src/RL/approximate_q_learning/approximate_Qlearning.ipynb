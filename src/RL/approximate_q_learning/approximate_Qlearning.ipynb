{
 "cells": [
  {
   "cell_type": "markdown",
   "metadata": {},
   "source": [
    "- model the problem\n",
    "    - Q(s, a) = w1.f1(s, a) + w2.f2(s, a) + ...\n",
    "    - f1 : 1 / distance from the final state\n",
    "    - f2 : -1 * distance from a ladder\n",
    "    <!-- - f2 : -1 * distance from a snake -->\n",
    "    \n",
    "- difference = [reward + γ. max Q(s', a')]\n",
    "- Q(s, a) <- Q(s, a) + alpha*(difference)\n",
    "- w <- w + alpha.(difference).f(s, a)"
   ]
  },
  {
   "cell_type": "code",
   "execution_count": 8,
   "metadata": {},
   "outputs": [],
   "source": [
    "# class Actions:\n",
    "#     _actions = [\"up\", \"right_1\", \"right_2\", \"left_1\", \"left_2\", \"down\", \"ladder_up\", \"snake_down\", \"terminate\"]\n",
    "#     up, right_1, right_2, left_1, left_2, down, ladder_up, snake_down, terminate = _actions\n",
    "\n",
    "#     @classmethod\n",
    "#     def get_index(cls, action):\n",
    "#         return cls._actions.index(action)\n",
    "\n",
    "#     @classmethod\n",
    "#     def index_to_action(cls, index:int) :\n",
    "#         return cls._actions[index]\n",
    "    \n",
    "#     @classmethod\n",
    "#     def get_reward(cls, action) :\n",
    "#         if action in [\"up\", \"right_1\", \"left_1\", \"down\"] :\n",
    "#             return 1\n",
    "#         elif action in [\"left_2\", \"right_2\"]:\n",
    "#             return 1.5 # value -2 for this doesn't make sense at all!\n",
    "#         elif action in [\"terminate\"] :\n",
    "#             return 100\n",
    "#         elif action in [\"ladder_up\"] : \n",
    "#             return 10\n",
    "#         elif action in [\"snake_down\"] :\n",
    "#             return -10\n",
    "            \n",
    "#     @classmethod    \n",
    "#     def get_num_actions(cls):\n",
    "#         return len(cls._actions)"
   ]
  },
  {
   "cell_type": "code",
   "execution_count": 2,
   "metadata": {},
   "outputs": [],
   "source": [
    "from src.RL.approximate_q_learning.approximate_Qlearning import Approximate_Qlearning\n",
    "# from src.RL.q_learning.action import Actions\n",
    "import numpy as np\n",
    "\n",
    "# snakes = [(42,96), (71,94), (32,75), (16,47), (10,25), (3,37)]\n",
    "# ladders = [(54,88), (41,79), (22,58), (14,55), (12,50), (4,56)]\n",
    "\n",
    "# Based on the map on the project description :\n",
    "snakes = [(42,96), (71,94), (32,75), (16,47), (10,28), (3,37)]\n",
    "ladders = [(54,88), (41,79), (22,58), (14,55), (12,50), (4,56)]\n",
    "\n",
    "n = 10\n",
    "game = Approximate_Qlearning(n=n, snakes=snakes, ladders=ladders, alpha=0.3, p=0.7, lambda_=1, log=False)\n",
    "game.train(n_iter=200)\n"
   ]
  },
  {
   "cell_type": "code",
   "execution_count": 3,
   "metadata": {},
   "outputs": [
    {
     "data": {
      "text/plain": [
       "array([ 4.040e-01,  1.497e+00, -1.000e-03])"
      ]
     },
     "execution_count": 3,
     "metadata": {},
     "output_type": "execute_result"
    }
   ],
   "source": [
    "np.round(game.weights, 3)"
   ]
  },
  {
   "cell_type": "code",
   "execution_count": 27,
   "metadata": {},
   "outputs": [],
   "source": [
    "# game.show_path()"
   ]
  },
  {
   "cell_type": "markdown",
   "metadata": {},
   "source": [
    "___"
   ]
  },
  {
   "cell_type": "code",
   "execution_count": 33,
   "metadata": {},
   "outputs": [
    {
     "data": {
      "text/plain": [
       "('left_2', 0.28074625285487054)"
      ]
     },
     "execution_count": 33,
     "metadata": {},
     "output_type": "execute_result"
    }
   ],
   "source": [
    "game.get_best_move(97)"
   ]
  },
  {
   "cell_type": "code",
   "execution_count": 4,
   "metadata": {},
   "outputs": [
    {
     "name": "stdout",
     "output_type": "stream",
     "text": [
      "right_1 -0.010288146074411492\n",
      "right_2 2.977434048623691\n",
      "left_1 -0.0040449884988217775\n",
      "left_2 -0.0040449884988217775\n"
     ]
    }
   ],
   "source": [
    "state_ = 2\n",
    "loc_ = game.state_to_loc(state_, game.n)\n",
    "for action in game.get_actions(loc_) :\n",
    "    print(action, game.predict(state_, action))"
   ]
  }
 ],
 "metadata": {
  "kernelspec": {
   "display_name": "base",
   "language": "python",
   "name": "python3"
  },
  "language_info": {
   "codemirror_mode": {
    "name": "ipython",
    "version": 3
   },
   "file_extension": ".py",
   "mimetype": "text/x-python",
   "name": "python",
   "nbconvert_exporter": "python",
   "pygments_lexer": "ipython3",
   "version": "3.9.16"
  }
 },
 "nbformat": 4,
 "nbformat_minor": 2
}
