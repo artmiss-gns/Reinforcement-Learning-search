{
 "cells": [
  {
   "cell_type": "markdown",
   "metadata": {},
   "source": [
    "agenda :\n",
    "__A*__\n",
    "\n",
    "- cost / heuristic\n",
    "- State class\n",
    "    - state number\n",
    "    - f, g, h\n",
    "    - parent\n",
    "- visited list\n",
    "- to be visited queue\n",
    "- "
   ]
  },
  {
   "cell_type": "markdown",
   "metadata": {},
   "source": [
    "-- Notes\n",
    "- the heuristic function may not work properly as expected"
   ]
  },
  {
   "cell_type": "code",
   "execution_count": 1,
   "metadata": {},
   "outputs": [],
   "source": [
    "from src.A_star.A_star import A_star"
   ]
  },
  {
   "cell_type": "markdown",
   "metadata": {},
   "source": [
    "### Test"
   ]
  },
  {
   "cell_type": "markdown",
   "metadata": {},
   "source": [
    "#### n=5"
   ]
  },
  {
   "cell_type": "code",
   "execution_count": 2,
   "metadata": {},
   "outputs": [],
   "source": [
    "ladders = [(9, 18), (14, 20)]\n",
    "snakes = [(2, 12), (7, 16)]\n",
    "\n",
    "n = 5\n",
    "game = A_star(start_state=1, n=n, snakes=snakes, ladders=ladders, )\n",
    "game.run()"
   ]
  },
  {
   "cell_type": "markdown",
   "metadata": {},
   "source": [
    "#### n=7"
   ]
  },
  {
   "cell_type": "code",
   "execution_count": 3,
   "metadata": {},
   "outputs": [],
   "source": [
    "ladders = [(9, 18), \n",
    "           (21, 35),\n",
    "           (28, 42)]\n",
    "\n",
    "snakes = [\n",
    "    (5, 17),\n",
    "    (19, 33),\n",
    "    (25, 47),\n",
    "]\n",
    "\n",
    "n = 7\n",
    "\n",
    "game = A_star(start_state=1, n=n, snakes=snakes, ladders=ladders, )\n",
    "game.run()"
   ]
  },
  {
   "cell_type": "markdown",
   "metadata": {},
   "source": [
    "### final test "
   ]
  },
  {
   "cell_type": "code",
   "execution_count": 4,
   "metadata": {},
   "outputs": [],
   "source": [
    "snakes = [(42,96), (71,94), (32,75), (16,47), (10,25), (3,37)]\n",
    "ladders = [(54,88), (41,79), (22,58), (14,55), (12,50), (4,56)]\n",
    "\n",
    "n = 10\n",
    "game = A_star(start_state=1, n=n, snakes=snakes, ladders=ladders, )\n",
    "game.run()"
   ]
  },
  {
   "cell_type": "markdown",
   "metadata": {},
   "source": [
    "game.get_path()"
   ]
  },
  {
   "cell_type": "code",
   "execution_count": null,
   "metadata": {},
   "outputs": [],
   "source": []
  }
 ],
 "metadata": {
  "kernelspec": {
   "display_name": "base",
   "language": "python",
   "name": "python3"
  },
  "language_info": {
   "codemirror_mode": {
    "name": "ipython",
    "version": 3
   },
   "file_extension": ".py",
   "mimetype": "text/x-python",
   "name": "python",
   "nbconvert_exporter": "python",
   "pygments_lexer": "ipython3",
   "version": "3.9.16"
  }
 },
 "nbformat": 4,
 "nbformat_minor": 2
}
