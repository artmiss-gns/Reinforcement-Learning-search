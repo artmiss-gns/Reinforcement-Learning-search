{
 "cells": [
  {
   "cell_type": "markdown",
   "metadata": {},
   "source": [
    "agenda :\n",
    "__A*__\n",
    "\n",
    "- cost / heuristic\n",
    "- State class\n",
    "    - state number\n",
    "    - f, g, h\n",
    "    - parent\n",
    "- visited list\n",
    "- to be visited queue\n",
    "- "
   ]
  },
  {
   "cell_type": "markdown",
   "metadata": {},
   "source": [
    "-- Notes\n",
    "- the heuristic function may not work properly as expected"
   ]
  },
  {
   "cell_type": "code",
   "execution_count": 1,
   "metadata": {},
   "outputs": [],
   "source": [
    "from src.A_star.A_star import A_star"
   ]
  },
  {
   "cell_type": "markdown",
   "metadata": {},
   "source": [
    "### Test"
   ]
  },
  {
   "cell_type": "markdown",
   "metadata": {},
   "source": [
    "#### n=5"
   ]
  },
  {
   "cell_type": "code",
   "execution_count": null,
   "metadata": {},
   "outputs": [],
   "source": [
    "ladders = [(9, 18), (14, 20)]\n",
    "snakes = [(2, 12), (7, 16)]\n",
    "\n",
    "n = 5\n",
    "game = A_star(start_state=1, n=n, snakes=snakes, ladders=ladders, )\n",
    "game.run()"
   ]
  },
  {
   "cell_type": "code",
   "execution_count": null,
   "metadata": {},
   "outputs": [
    {
     "data": {
      "text/plain": [
       "[State1,\n",
       " State3,\n",
       " State5,\n",
       " State6,\n",
       " State8,\n",
       " State9,\n",
       " State18,\n",
       " State20,\n",
       " State21,\n",
       " State23,\n",
       " State25]"
      ]
     },
     "execution_count": 5,
     "metadata": {},
     "output_type": "execute_result"
    }
   ],
   "source": [
    "game.get_path()"
   ]
  },
  {
   "cell_type": "markdown",
   "metadata": {},
   "source": [
    "#### n=7"
   ]
  },
  {
   "cell_type": "code",
   "execution_count": null,
   "metadata": {},
   "outputs": [],
   "source": [
    "ladders = [(9, 18), \n",
    "           (21, 35),\n",
    "           (28, 42)]\n",
    "\n",
    "snakes = [\n",
    "    (5, 17),\n",
    "    (19, 33),\n",
    "    (25, 47),\n",
    "]\n",
    "\n",
    "n = 7\n",
    "\n",
    "game = A_star(start_state=1, n=n, snakes=snakes, ladders=ladders, )\n",
    "game.run()"
   ]
  },
  {
   "cell_type": "code",
   "execution_count": null,
   "metadata": {},
   "outputs": [
    {
     "data": {
      "text/plain": [
       "[State1,\n",
       " State3,\n",
       " State5,\n",
       " State7,\n",
       " State8,\n",
       " State9,\n",
       " State18,\n",
       " State20,\n",
       " State21,\n",
       " State35,\n",
       " State36,\n",
       " State38,\n",
       " State40,\n",
       " State42,\n",
       " State43,\n",
       " State45,\n",
       " State46,\n",
       " State48,\n",
       " State49]"
      ]
     },
     "execution_count": 6,
     "metadata": {},
     "output_type": "execute_result"
    }
   ],
   "source": [
    "game.get_path()"
   ]
  },
  {
   "cell_type": "markdown",
   "metadata": {},
   "source": [
    "### final test "
   ]
  },
  {
   "cell_type": "code",
   "execution_count": null,
   "metadata": {},
   "outputs": [
    {
     "name": "stdout",
     "output_type": "stream",
     "text": [
      "used a ladder\n",
      "used a ladder\n"
     ]
    }
   ],
   "source": [
    "snakes = [(1,34), (5,25), (9,47) , (69,99),(57,87)]\n",
    "ladders = [(3,51), (6,27), (20,70), (36,55),(63,95),(68,98)]\n",
    "\n",
    "n = 10\n",
    "game = A_star(start_state=1, n=n, snakes=snakes, ladders=ladders, )\n",
    "game.run()"
   ]
  },
  {
   "cell_type": "code",
   "execution_count": null,
   "metadata": {},
   "outputs": [
    {
     "data": {
      "text/plain": [
       "[State1,\n",
       " State3,\n",
       " State4,\n",
       " State56,\n",
       " State54,\n",
       " State88,\n",
       " State90,\n",
       " State91,\n",
       " State93,\n",
       " State95,\n",
       " State97,\n",
       " State99,\n",
       " State100]"
      ]
     },
     "execution_count": 12,
     "metadata": {},
     "output_type": "execute_result"
    }
   ],
   "source": [
    "game.get_path()"
   ]
  },
  {
   "cell_type": "code",
   "execution_count": null,
   "metadata": {},
   "outputs": [
    {
     "data": {
      "text/plain": [
       "13"
      ]
     },
     "execution_count": 9,
     "metadata": {},
     "output_type": "execute_result"
    }
   ],
   "source": [
    "len(game.get_path())"
   ]
  },
  {
   "cell_type": "code",
   "execution_count": null,
   "metadata": {},
   "outputs": [
    {
     "name": "stdout",
     "output_type": "stream",
     "text": [
      "used a ladder\n",
      "used a ladder\n"
     ]
    }
   ],
   "source": [
    "ladders = [(1, 24), (6, 99), (13, 55), (29, 71), (67, 88)]\n",
    "snakes = [(8, 31), (15, 97), (66, 87), (8, 42)]\n",
    "\n",
    "n = 10\n",
    "game = A_star(start_state=1, n=n, snakes=snakes, ladders=ladders, )\n",
    "game.run()"
   ]
  },
  {
   "cell_type": "code",
   "execution_count": null,
   "metadata": {},
   "outputs": [
    {
     "data": {
      "text/plain": [
       "[State1,\n",
       " State24,\n",
       " State26,\n",
       " State28,\n",
       " State29,\n",
       " State71,\n",
       " State73,\n",
       " State75,\n",
       " State77,\n",
       " State79,\n",
       " State80,\n",
       " State81,\n",
       " State83,\n",
       " State85,\n",
       " State86,\n",
       " State88,\n",
       " State90,\n",
       " State91,\n",
       " State93,\n",
       " State95,\n",
       " State96,\n",
       " State98,\n",
       " State100]"
      ]
     },
     "execution_count": 3,
     "metadata": {},
     "output_type": "execute_result"
    }
   ],
   "source": [
    "game.get_path()"
   ]
  }
 ],
 "metadata": {
  "kernelspec": {
   "display_name": "base",
   "language": "python",
   "name": "python3"
  },
  "language_info": {
   "codemirror_mode": {
    "name": "ipython",
    "version": 3
   },
   "file_extension": ".py",
   "mimetype": "text/x-python",
   "name": "python",
   "nbconvert_exporter": "python",
   "pygments_lexer": "ipython3",
   "version": "3.9.16"
  }
 },
 "nbformat": 4,
 "nbformat_minor": 2
}
